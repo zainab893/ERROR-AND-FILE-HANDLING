{
  "nbformat": 4,
  "nbformat_minor": 0,
  "metadata": {
    "colab": {
      "provenance": []
    },
    "kernelspec": {
      "name": "python3",
      "display_name": "Python 3"
    },
    "language_info": {
      "name": "python"
    }
  },
  "cells": [
    {
      "cell_type": "code",
      "execution_count": null,
      "metadata": {
        "id": "ruExuTIzUP8R"
      },
      "outputs": [],
      "source": [
        "# W25-PAK-INP-AI-01"
      ]
    },
    {
      "cell_type": "code",
      "source": [
        "# SYEDA ZAINABA FATIMA"
      ],
      "metadata": {
        "id": "3w1l94WtUX-1"
      },
      "execution_count": null,
      "outputs": []
    },
    {
      "cell_type": "code",
      "source": [
        "try:\n",
        "    num = int(input(\"Enter a number: \"))\n",
        "    result = 10 / num\n",
        "    print(f\"Result: {result}\")\n",
        "except ZeroDivisionError:\n",
        "    print(\"You can't divide by zero!\")"
      ],
      "metadata": {
        "colab": {
          "base_uri": "https://localhost:8080/"
        },
        "id": "mxYsTUGlUYOt",
        "outputId": "bcd5b481-06d9-42ad-c4ac-b48a7a1d7746"
      },
      "execution_count": 2,
      "outputs": [
        {
          "output_type": "stream",
          "name": "stdout",
          "text": [
            "Enter a number: 2\n",
            "Result: 5.0\n"
          ]
        }
      ]
    },
    {
      "cell_type": "code",
      "source": [
        "try:\n",
        "    age = int(input(\"Enter your age: \"))\n",
        "    print(f\"You are {age} years old.\")\n",
        "except ValueError:\n",
        "    print(\"Please enter a valid number.\")"
      ],
      "metadata": {
        "colab": {
          "base_uri": "https://localhost:8080/"
        },
        "id": "33N7fdzdUYYd",
        "outputId": "5fbbbc0e-0c37-409e-ba7f-b9bb9fc828f4"
      },
      "execution_count": 5,
      "outputs": [
        {
          "output_type": "stream",
          "name": "stdout",
          "text": [
            "Enter your age: 22age\n",
            "Please enter a valid number.\n"
          ]
        }
      ]
    },
    {
      "cell_type": "code",
      "source": [
        "try:\n",
        "    num1 = int(input(\"Enter the first number: \"))\n",
        "    num2 = int(input(\"Enter the second number: \"))\n",
        "    result = num1 % num2\n",
        "    print(f\"The remainder is: {result}\")\n",
        "except ZeroDivisionError:\n",
        "    print(\"Error: Cannot find remainder with a divisor of zero.\")"
      ],
      "metadata": {
        "colab": {
          "base_uri": "https://localhost:8080/"
        },
        "id": "4tj2sIS3UYrt",
        "outputId": "56d08e54-57fb-48a2-921c-a2d14d7dd223"
      },
      "execution_count": 7,
      "outputs": [
        {
          "output_type": "stream",
          "name": "stdout",
          "text": [
            "Enter the first number: 10\n",
            "Enter the second number: 0\n",
            "Error: Cannot find remainder with a divisor of zero.\n"
          ]
        }
      ]
    },
    {
      "cell_type": "code",
      "source": [
        "try:\n",
        "    base = int(input(\"Enter the base: \"))\n",
        "    exponent = int(input(\"Enter the exponent: \"))\n",
        "    result = base ** exponent\n",
        "    print(f\"The result is: {result}\")\n",
        "except ValueError:\n",
        "    print(\"Error: Please enter valid numbers.\")\n"
      ],
      "metadata": {
        "colab": {
          "base_uri": "https://localhost:8080/"
        },
        "id": "XjwcpYGjUYzX",
        "outputId": "9578d89e-accf-45bf-8b06-3d8a351d7182"
      },
      "execution_count": 8,
      "outputs": [
        {
          "output_type": "stream",
          "name": "stdout",
          "text": [
            "Enter the base: 2\n",
            "Enter the exponent: 3\n",
            "The result is: 8\n"
          ]
        }
      ]
    },
    {
      "cell_type": "code",
      "source": [
        "try:\n",
        "    num1 = int(input(\"Enter the first number: \"))\n",
        "    num2 = int(input(\"Enter the second number: \"))\n",
        "\n",
        "    print(f\"Addition: {num1 + num2}\")\n",
        "    print(f\"Subtraction: {num1 - num2}\")\n",
        "    print(f\"Multiplication: {num1 * num2}\")\n",
        "    print(f\"Division: {num1 / num2}\")\n",
        "    print(f\"Modulus: {num1 % num2}\")\n",
        "    print(f\"Exponentiation: {num1 ** num2}\")\n",
        "    print(f\"Floor Division: {num1 // num2}\")\n",
        "except ZeroDivisionError:\n",
        "    print(\"Error: Cannot perform division or modulus by zero.\")"
      ],
      "metadata": {
        "colab": {
          "base_uri": "https://localhost:8080/"
        },
        "id": "8EzCDCqbUY36",
        "outputId": "beeae90a-ba84-4faf-8567-34fd7f0b986e"
      },
      "execution_count": 9,
      "outputs": [
        {
          "output_type": "stream",
          "name": "stdout",
          "text": [
            "Enter the first number: 10\n",
            "Enter the second number: 20\n",
            "Addition: 30\n",
            "Subtraction: -10\n",
            "Multiplication: 200\n",
            "Division: 0.5\n",
            "Modulus: 10\n",
            "Exponentiation: 100000000000000000000\n",
            "Floor Division: 0\n"
          ]
        }
      ]
    },
    {
      "cell_type": "code",
      "source": [
        "# FILE HANDLING\n",
        "# READ\n",
        "with open(\"/content/zainab file 1.txt\", \"r\") as file:\n",
        "    content = file.read()\n",
        "    print(content)"
      ],
      "metadata": {
        "colab": {
          "base_uri": "https://localhost:8080/"
        },
        "id": "5TIspmsNV5UB",
        "outputId": "d9cd53dd-662b-42f6-be4f-c9a55c4050d1"
      },
      "execution_count": 18,
      "outputs": [
        {
          "output_type": "stream",
          "name": "stdout",
          "text": [
            "zainabfatima\n",
            "\n"
          ]
        }
      ]
    },
    {
      "cell_type": "code",
      "source": [
        "with open(\"/content/zainab file 1.txt\", \"r\") as file:\n",
        "    for line in file:\n",
        "        print(line.strip())"
      ],
      "metadata": {
        "colab": {
          "base_uri": "https://localhost:8080/"
        },
        "id": "vLBpeM0zV5fE",
        "outputId": "c682aa71-9c46-49dd-e7b8-89645c6cc523"
      },
      "execution_count": 19,
      "outputs": [
        {
          "output_type": "stream",
          "name": "stdout",
          "text": [
            "zainabfatima\n"
          ]
        }
      ]
    },
    {
      "cell_type": "code",
      "source": [
        "with open(\"/content/zainab file 1.txt\", \"r\") as file:\n",
        "    content = file.read(10)  # Reads the first 10 characters\n",
        "    print(content)"
      ],
      "metadata": {
        "colab": {
          "base_uri": "https://localhost:8080/"
        },
        "id": "_2aT-1fBUY7u",
        "outputId": "c4a59d2d-062b-454f-8c5e-1fcc9186147c"
      },
      "execution_count": 20,
      "outputs": [
        {
          "output_type": "stream",
          "name": "stdout",
          "text": [
            "zainabfati\n"
          ]
        }
      ]
    },
    {
      "cell_type": "code",
      "source": [
        "# WRITE\n",
        "with open(\"/content/zainab file 1.txt\", \"w\") as file:\n",
        "    file.write(\"This is new content.\")"
      ],
      "metadata": {
        "id": "A2aeVBBeXhlv"
      },
      "execution_count": 21,
      "outputs": []
    },
    {
      "cell_type": "code",
      "source": [
        "with open(\"/content/zainab file 1.txt\", \"w\") as file:\n",
        "    file.writelines([\"Line 1\\n\", \"Line 2\\n\", \"Line 3\\n\"])\n"
      ],
      "metadata": {
        "id": "DKa9_Z6EXhoU"
      },
      "execution_count": 23,
      "outputs": []
    },
    {
      "cell_type": "code",
      "source": [
        "text = input(\"Enter some text: \")\n",
        "with open(\"/content/zainab file 1.txt\", \"w\") as file:\n",
        "    file.write(text)"
      ],
      "metadata": {
        "colab": {
          "base_uri": "https://localhost:8080/"
        },
        "id": "7ria7jRRXhqz",
        "outputId": "110d87bb-c85c-4833-9153-3b1b26db612b"
      },
      "execution_count": 24,
      "outputs": [
        {
          "name": "stdout",
          "output_type": "stream",
          "text": [
            "Enter some text: syeda\n"
          ]
        }
      ]
    },
    {
      "cell_type": "code",
      "source": [
        "# APPEND\n",
        "with open(\"/content/zainab file 1.txt\", \"a\") as file:\n",
        "    file.write(\"This text is added at the end.\\n\")"
      ],
      "metadata": {
        "id": "YibpwmudXhtn"
      },
      "execution_count": 27,
      "outputs": []
    },
    {
      "cell_type": "code",
      "source": [
        "with open(\"/content/zainab file 1.txt\", \"a\") as file:\n",
        "    file.writelines([\"Another line\\n\", \"And another one\\n\"])"
      ],
      "metadata": {
        "id": "bxvJcJ2oXhvu"
      },
      "execution_count": 28,
      "outputs": []
    },
    {
      "cell_type": "code",
      "source": [
        "text = input(\"Enter text to append: \")\n",
        "with open(\"/content/zainab file 1.txt\", \"a\") as file:\n",
        "    file.write(text + \"\\n\")\n"
      ],
      "metadata": {
        "colab": {
          "base_uri": "https://localhost:8080/"
        },
        "id": "4wC5VzUuXhxx",
        "outputId": "c70d0ae7-3599-45a7-bef7-94173879f199"
      },
      "execution_count": 29,
      "outputs": [
        {
          "name": "stdout",
          "output_type": "stream",
          "text": [
            "Enter text to append: syeda\n"
          ]
        }
      ]
    },
    {
      "cell_type": "code",
      "source": [],
      "metadata": {
        "id": "CJ8bGvndXh1G"
      },
      "execution_count": null,
      "outputs": []
    }
  ]
}